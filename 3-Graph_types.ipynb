{
 "cells": [
  {
   "cell_type": "markdown",
   "metadata": {},
   "source": [
    "# Other Graph types\n",
    "\n",
    "The JuliaGraphs ecosystem contains other graph types appart from `SimpleGraph` and `SimpleDiGraph`. In this notebook we are going to look at some of them."
   ]
  },
  {
   "cell_type": "markdown",
   "metadata": {},
   "source": [
    "## Setup"
   ]
  },
  {
   "cell_type": "code",
   "execution_count": null,
   "metadata": {
    "scrolled": true
   },
   "outputs": [],
   "source": [
    "using LightGraphs\n",
    "\n",
    "# We will mainly looks at the packages\n",
    "using SimpleWeightedGraphs\n",
    "using MetaGraphs\n",
    "\n",
    "# Some helper packages\n",
    "using BenchmarkTools\n",
    "using SNAPDatasets\n",
    "using GraphPlot: gplot, gplothtml\n",
    "using Random\n",
    "using Colors: @colorant_str"
   ]
  },
  {
   "cell_type": "markdown",
   "metadata": {},
   "source": [
    "Execute the next cell to create helper funcion `viz` for displaying graphs.\n",
    "No need to understand how it works for now.\n",
    "\n",
    "**!!!** People who use the terminal instead of Jupyter might want to change `gplot` to `gplothtml` though"
   ]
  },
  {
   "cell_type": "code",
   "execution_count": null,
   "metadata": {},
   "outputs": [],
   "source": [
    "function viz(\n",
    "        g::LightGraphs.AbstractSimpleGraph{T};\n",
    "        vertex_labels = 1:nv(g),\n",
    "        color_vertices = Vector{T}(),\n",
    "        color_edges = Vector{Edge{T}}(),\n",
    "        edge_labels = String[],\n",
    "        weights = nothing\n",
    "    ) where {T}\n",
    " \n",
    "    order_edge(e::Edge) = Edge(minmax(src(e), dst(e)))\n",
    "    \n",
    "    color_vertices = Set(color_vertices)\n",
    "    color_edges = is_directed(g) ? Set(color_edges) : Set(order_edge.(color_edges))\n",
    "    \n",
    "    if weights != nothing && isempty(edge_labels)\n",
    "        edge_labels = map(e -> string(weights[dst(e), src(e)]), edges(g))\n",
    "    end\n",
    "    \n",
    "    vertex_colors = map(v -> v ∈ color_vertices ? colorant\"lightblue\" : colorant\"lightgrey\", vertices(g))\n",
    "    edge_colors = map(e -> e ∈ color_edges ? colorant\"red\" : colorant\"lightgrey\", edges(g))\n",
    "    \n",
    "    Random.seed!(5)\n",
    "    gplot(g,\n",
    "        nodelabel    = vertex_labels,\n",
    "        edgestrokec  = edge_colors,\n",
    "        edgelabel    = edge_labels,\n",
    "        nodefillc    = vertex_colors,\n",
    "        nodestrokec  = colorant\"darkgrey\",\n",
    "        nodestrokelw = 1,\n",
    "        NODELABELSIZE = 5,\n",
    "        EDGELABELSIZE = 5\n",
    "    )\n",
    "end\n",
    "\n",
    "viz(gw::AbstractSimpleWeightedGraph; kwargs...) =\n",
    "    viz(is_directed(gw) ? SimpleDiGraph(gw) : SimpleGraph(gw); weights=adjacency_matrix(gw), kwargs...)\n",
    "\n",
    "\n",
    "function viz(gm::MetaGraph; kwargs...)\n",
    "   \n",
    "    vertex_labels = map(vertices(gm)) do v\n",
    "        ps = props(gm, v)\n",
    "        tup = NamedTuple{Tuple(keys(ps))}(Tuple(values(ps)))\n",
    "        isempty(tup) ? \"$v\" : \"$v: $tup\"\n",
    "    end\n",
    "    \n",
    "    edge_labels = map(edges(gm)) do e\n",
    "        ps = props(gm, src(e), dst(e))\n",
    "        tup = NamedTuple{Tuple(keys(ps))}(Tuple(values(ps)))\n",
    "        isempty(tup) ? \"\" : \"$tup\"\n",
    "    end\n",
    "    \n",
    "    return viz(is_directed(gm) ? SimpleDiGraph(gm) : SimpleGraph(gm);\n",
    "        vertex_labels = vertex_labels, edge_labels = edge_labels, kwargs...)\n",
    "end\n",
    ";"
   ]
  },
  {
   "cell_type": "markdown",
   "metadata": {},
   "source": [
    "## Motivation"
   ]
  },
  {
   "cell_type": "code",
   "execution_count": null,
   "metadata": {
    "scrolled": true
   },
   "outputs": [],
   "source": [
    "g = smallgraph(:house)"
   ]
  },
  {
   "cell_type": "code",
   "execution_count": null,
   "metadata": {},
   "outputs": [],
   "source": [
    "edges(g) |> collect"
   ]
  },
  {
   "cell_type": "code",
   "execution_count": null,
   "metadata": {
    "scrolled": false
   },
   "outputs": [],
   "source": [
    "viz(g)"
   ]
  },
  {
   "cell_type": "markdown",
   "metadata": {},
   "source": [
    "### The minimum spanning tree (mst)\n",
    "\n",
    "Find a minimum connected subgraph of the graph that includes each vertex"
   ]
  },
  {
   "cell_type": "code",
   "execution_count": null,
   "metadata": {},
   "outputs": [],
   "source": [
    "prim_mst(g) "
   ]
  },
  {
   "cell_type": "code",
   "execution_count": null,
   "metadata": {},
   "outputs": [],
   "source": [
    "viz(g, color_edges = prim_mst(g))"
   ]
  },
  {
   "cell_type": "markdown",
   "metadata": {},
   "source": [
    "### Weighted minimum spannning tree\n",
    "\n",
    "Add a weight to each edge and select the spanning tree with minimum (sum over all weights) weight"
   ]
  },
  {
   "cell_type": "code",
   "execution_count": null,
   "metadata": {
    "scrolled": false
   },
   "outputs": [],
   "source": [
    "weights = adjacency_matrix(g) |> Matrix\n",
    "weight_matrix[1, 3] = 100; weight_matrix[3, 1] = 100;\n",
    "weight_matrix"
   ]
  },
  {
   "cell_type": "code",
   "execution_count": null,
   "metadata": {},
   "outputs": [],
   "source": [
    "viz(g, weights=weight_matrix)"
   ]
  },
  {
   "cell_type": "code",
   "execution_count": null,
   "metadata": {},
   "outputs": [],
   "source": [
    "prim_mst(g, weight_matrix)"
   ]
  },
  {
   "cell_type": "code",
   "execution_count": null,
   "metadata": {
    "scrolled": false
   },
   "outputs": [],
   "source": [
    "viz(g, color_edges=prim_mst(g, weight_matrix),  weights=weight_matrix)"
   ]
  },
  {
   "cell_type": "markdown",
   "metadata": {},
   "source": [
    "## Exercise 1: Change `weights` so that the minimum spanning tree uses the edges (1,3) (2,4), (3,4) and (4, 5) \n",
    "\n",
    "Solution below\n",
    "\n",
    ".\n",
    "\n",
    ".\n",
    "\n",
    ".\n",
    "\n",
    ".\n",
    "\n",
    ".\n",
    "\n",
    ".\n",
    "\n",
    ".\n",
    "\n",
    ".\n",
    "\n",
    ".\n",
    "\n",
    ".\n",
    "\n",
    "\n",
    "\n",
    ".\n",
    "\n",
    ".\n",
    "\n",
    ".\n",
    "\n",
    ".\n",
    "\n",
    ".\n",
    "\n",
    ".\n"
   ]
  },
  {
   "cell_type": "code",
   "execution_count": null,
   "metadata": {
    "scrolled": false
   },
   "outputs": [],
   "source": [
    "weight_matrix = adjacency_matrix(g)\n",
    "weight_matrix[1, 2] = 100; weight_matrix[2, 1] = 100;\n",
    "weight_matrix[3, 5] = 100; ws[5, 3] = 100;\n",
    "\n",
    "viz(g, color_edges=prim_mst(g, weight_matrix),  weights=weight_matrix)"
   ]
  },
  {
   "cell_type": "markdown",
   "metadata": {},
   "source": [
    "\n",
    "### Can we store the edge weights (distances) in the graph?\n",
    "\n",
    "<br>\n",
    "<br>\n",
    "<br>\n",
    "\n"
   ]
  },
  {
   "cell_type": "markdown",
   "metadata": {},
   "source": [
    "## SimpleWeightedGraphs.jl\n",
    "\n",
    "- Two types: `SimpleWeightedGraph` and `SimpleWeightedDiGraph`\n",
    "- Wrapper around a `SparseMatrixCSC`\n",
    "- Works with most `LightGraphs` functions that take a weight (distance) matrix"
   ]
  },
  {
   "cell_type": "code",
   "execution_count": null,
   "metadata": {},
   "outputs": [],
   "source": [
    "using SimpleWeightedGraphs"
   ]
  },
  {
   "cell_type": "code",
   "execution_count": null,
   "metadata": {},
   "outputs": [],
   "source": [
    "# Create from SimpleGraph\n",
    "\n",
    "gw = SimpleWeightedGraph(smallgraph(:house))"
   ]
  },
  {
   "cell_type": "code",
   "execution_count": null,
   "metadata": {},
   "outputs": [],
   "source": [
    "viz(gw)"
   ]
  },
  {
   "cell_type": "code",
   "execution_count": null,
   "metadata": {
    "scrolled": true
   },
   "outputs": [],
   "source": [
    "# Create from a matrix\n",
    "A = Float64[\n",
    "    0  4  2\n",
    "    4  0  1\n",
    "    2  1  0\n",
    "]"
   ]
  },
  {
   "cell_type": "code",
   "execution_count": null,
   "metadata": {},
   "outputs": [],
   "source": [
    "gw2 = SimpleWeightedGraph(A)\n",
    "viz(gw2)"
   ]
  },
  {
   "cell_type": "code",
   "execution_count": null,
   "metadata": {},
   "outputs": [],
   "source": [
    "viz(gw2, color_edges = prim_mst(gw2))"
   ]
  },
  {
   "cell_type": "code",
   "execution_count": null,
   "metadata": {
    "scrolled": false
   },
   "outputs": [],
   "source": [
    "add_edge!(gw2, 2, 3, 100)\n",
    "\n",
    "viz(gw2)"
   ]
  },
  {
   "cell_type": "code",
   "execution_count": null,
   "metadata": {},
   "outputs": [],
   "source": [
    "add_edge!(gw2, 2, 3, 0) # ignored because zeros represent non-existing edges\n",
    "\n",
    "viz(gw2)"
   ]
  },
  {
   "cell_type": "code",
   "execution_count": null,
   "metadata": {},
   "outputs": [],
   "source": [
    "rem_edge!(gw2, 2, 3)\n",
    "\n",
    "viz(gw2)"
   ]
  },
  {
   "cell_type": "code",
   "execution_count": null,
   "metadata": {},
   "outputs": [],
   "source": [
    "adjacency_matrix(gw2) |> Matrix"
   ]
  },
  {
   "cell_type": "markdown",
   "metadata": {},
   "source": [
    "### Exercise 2: Create a directed weighted star graph\n",
    "- Create a matrix that represents the weighted adjacency matrix of the following graph\n",
    "- Ensure that edge `(1, n)` has weight `n`\n",
    "- Convert the graph to `SimpleWeightedDiGraph`"
   ]
  },
  {
   "cell_type": "code",
   "execution_count": null,
   "metadata": {},
   "outputs": [],
   "source": [
    "viz(star_digraph(4)) # directed star graph without weights"
   ]
  },
  {
   "cell_type": "markdown",
   "metadata": {},
   "source": [
    "Solution below\n",
    "\n",
    ".\n",
    "\n",
    ".\n",
    "\n",
    ".\n",
    "\n",
    ".\n",
    "\n",
    ".\n",
    "\n",
    ".\n",
    "\n",
    ".\n",
    "\n",
    ".\n",
    "\n",
    ".\n",
    "\n",
    ".\n",
    "\n",
    "\n",
    ".\n",
    "\n",
    ".\n",
    "\n",
    ".\n",
    "\n",
    ".\n",
    "\n",
    ".\n",
    "\n",
    ".\n"
   ]
  },
  {
   "cell_type": "code",
   "execution_count": null,
   "metadata": {},
   "outputs": [],
   "source": [
    "# Note source of edge is column number not row number\n",
    "\n",
    "A = [\n",
    "    0 0 0 0\n",
    "    2 0 0 0\n",
    "    3 0 0 0\n",
    "    4 0 0 0\n",
    "]\n",
    "\n",
    "gwd = SimpleWeightedDiGraph(A)\n",
    "\n",
    "viz(gwd)"
   ]
  },
  {
   "cell_type": "markdown",
   "metadata": {},
   "source": [
    "<br>\n",
    "<br>\n",
    "<br>\n",
    "\n",
    "### Is there a way to have more than one property on an edge?"
   ]
  },
  {
   "cell_type": "markdown",
   "metadata": {},
   "source": [
    "## MetaGraphs.jl\n",
    "\n",
    "- Two types: `MetaGraph` and `MetaDiGraph`\n",
    "- Wrapper around `SimpleGraph` and `SimpleDiGraph`\n"
   ]
  },
  {
   "cell_type": "code",
   "execution_count": null,
   "metadata": {},
   "outputs": [],
   "source": [
    "using MetaGraphs"
   ]
  },
  {
   "cell_type": "code",
   "execution_count": null,
   "metadata": {},
   "outputs": [],
   "source": [
    "gm = MetaGraph(smallgraph(:bull))\n",
    "viz(gm)"
   ]
  },
  {
   "cell_type": "code",
   "execution_count": null,
   "metadata": {
    "scrolled": false
   },
   "outputs": [],
   "source": [
    "# setting multipe edge properties\n",
    "\n",
    "set_prop!(gm, 1, 2, :a, 10)\n",
    "set_prop!(gm, 1, 2, :c, 0.2)\n",
    "\n",
    "set_prop!(gm, 2, 3, :a, 5)\n",
    "set_prop!(gm, 2, 3, :b, \"hello\")\n",
    "set_prop!(gm, 2, 3, :c,  0.1)\n",
    "\n",
    "set_prop!(gm, 2, 4, :c, 7.0)\n",
    "\n",
    "viz(gm)"
   ]
  },
  {
   "cell_type": "code",
   "execution_count": null,
   "metadata": {},
   "outputs": [],
   "source": [
    "# retrieve single edge prop\n",
    "\n",
    "get_prop(gm, 2, 3, :a) |> println\n",
    "get_prop(gm, 2, 3, :b) |> println\n",
    "\n",
    "\n",
    "# retrieve all edge props\n",
    "props(gm, 2, 3) |> println"
   ]
  },
  {
   "cell_type": "code",
   "execution_count": null,
   "metadata": {},
   "outputs": [],
   "source": [
    "# setting a vertex property\n",
    "\n",
    "set_prop!(gm, 5, :name, \"vertex 5\")\n",
    "\n",
    "viz(gm)"
   ]
  },
  {
   "cell_type": "code",
   "execution_count": null,
   "metadata": {},
   "outputs": [],
   "source": [
    "# setting a graph property\n",
    "set_prop!(gm, :graph_name, \"bull graph\")\n",
    "\n",
    "get_prop(gm, :graph_name)"
   ]
  },
  {
   "cell_type": "code",
   "execution_count": null,
   "metadata": {},
   "outputs": [],
   "source": [
    "# Running minimum spanning tree\n",
    "\n",
    "viz(gm, color_edges = prim_mst(gm))"
   ]
  },
  {
   "cell_type": "code",
   "execution_count": null,
   "metadata": {},
   "outputs": [],
   "source": [
    "# Which edge property is used for the spanning tree?\n",
    "\n",
    "\n",
    "LightGraphs.weights(gm) |> Matrix"
   ]
  },
  {
   "cell_type": "code",
   "execution_count": null,
   "metadata": {},
   "outputs": [],
   "source": [
    "weightfield(gm) # edge property that is used in the algorithm"
   ]
  },
  {
   "cell_type": "code",
   "execution_count": null,
   "metadata": {},
   "outputs": [],
   "source": [
    "# We can change the used edge property:\n",
    "\n",
    "weightfield!(gm, :a)\n",
    "\n",
    "viz(gm, color_edges = prim_mst(gm))"
   ]
  },
  {
   "cell_type": "markdown",
   "metadata": {},
   "source": [
    "### Exercise 3: Change the weightfield to :c\n",
    "- Think how the minimum spanning tree would change if you change the weighfield to :c\n",
    "- Then change it and plot the new spanning tree\n",
    "\n",
    "Solution below\n",
    ".\n",
    "\n",
    ".\n",
    "\n",
    ".\n",
    "\n",
    ".\n",
    "\n",
    ".\n",
    "\n",
    ".\n",
    "\n",
    ".\n",
    "\n",
    ".\n",
    "\n",
    ".\n",
    "\n",
    ".\n",
    "\n",
    ".\n",
    "\n",
    ".\n",
    "\n",
    ".\n",
    "\n",
    ".\n",
    "\n",
    ".\n",
    "\n",
    "."
   ]
  },
  {
   "cell_type": "code",
   "execution_count": null,
   "metadata": {
    "scrolled": true
   },
   "outputs": [],
   "source": [
    "weightfield!(gm, :c)\n",
    "viz(gm, color_edges = prim_mst(gm))"
   ]
  },
  {
   "cell_type": "markdown",
   "metadata": {},
   "source": [
    "## When to use which graph type?"
   ]
  },
  {
   "cell_type": "markdown",
   "metadata": {},
   "source": [
    "### Benchmark:"
   ]
  },
  {
   "cell_type": "code",
   "execution_count": null,
   "metadata": {},
   "outputs": [],
   "source": [
    "using SNAPDatasets, BenchmarkTools\n",
    "\n",
    "g = loadsnap(:email_enron)"
   ]
  },
  {
   "cell_type": "code",
   "execution_count": null,
   "metadata": {},
   "outputs": [],
   "source": [
    "gw = SimpleWeightedGraph(g)\n",
    "gm = MetaGraph(g)"
   ]
  },
  {
   "cell_type": "code",
   "execution_count": null,
   "metadata": {},
   "outputs": [],
   "source": [
    "for e in edges(g)\n",
    "    add_edge!(gw, src(e), dst(e), 2.0)\n",
    "    set_prop!(gm, src(e), dst(e), :weight, 2.0)\n",
    "end\n",
    "A = adjacency_matrix(gw);"
   ]
  },
  {
   "cell_type": "code",
   "execution_count": null,
   "metadata": {},
   "outputs": [],
   "source": [
    "@btime prim_mst(g, A);"
   ]
  },
  {
   "cell_type": "code",
   "execution_count": null,
   "metadata": {},
   "outputs": [],
   "source": [
    "@btime prim_mst(gw);"
   ]
  },
  {
   "cell_type": "code",
   "execution_count": null,
   "metadata": {
    "scrolled": true
   },
   "outputs": [],
   "source": [
    "@btime prim_mst(gm);"
   ]
  },
  {
   "cell_type": "markdown",
   "metadata": {},
   "source": [
    "### Conclusion\n",
    "\n",
    "- MetaGraph much slower.\n",
    "\n",
    "#### SimpleGraphs\n",
    "- No edge property is needed\n",
    "- Lots of structural changes to graph\n",
    "\n",
    "#### SimpleWeightedGraphs\n",
    "- Single numerical edge property\n",
    "- No vertex/graph properties\n",
    "- Not many structural changes to graph\n",
    "\n",
    "#### MetaGraphs\n",
    "- Different or non-numerical edge properties\n",
    "- Vertex/graph properties\n",
    "- Lots of structural changes to graph"
   ]
  },
  {
   "cell_type": "markdown",
   "metadata": {},
   "source": [
    "## Other graph types\n",
    "\n",
    "- [StaticGraphs.jl](https://github.com/JuliaGraphs/StaticGraphs.jl)\n",
    "    - SimpleGraphs with more cache optimal layout\n",
    "    - Immutable\n",
    "\n",
    "- [SpecialGraphs.jl](https://github.com/JuliaGraphs/SpecialGraphs.jl)\n",
    "    - Parametrized graphs where we only have to store the parameter\n",
    "    - Example: complete graph `K_n` - it is sufficient to store `n`\n",
    "    - Immutable\n",
    "    - Can specialize certain algorithms\n",
    "\n",
    "\n",
    "- [LightGraphsGraphBlas.jl](https://github.com/abhinavmehndiratta/LightGraphsGraphBLAS.jl])\n",
    "    - Created by Abhinav Mehndiratta for last summers Gsoc\n",
    "    - Wraps graphs that implement the GraphBLAS Api into LightGraphs types"
   ]
  },
  {
   "cell_type": "markdown",
   "metadata": {},
   "source": [
    "## Summary and outlook\n",
    "\n",
    "- SimpleWeightedGraphs for sinle nummeric properties\n",
    "- MetaGraphs for multiple or non-numeric properties\n",
    "\n",
    "=> Huge possibilty for other graph type"
   ]
  }
 ],
 "metadata": {
  "@webio": {
   "lastCommId": null,
   "lastKernelId": null
  },
  "kernelspec": {
   "display_name": "Julia 1.4.0",
   "language": "julia",
   "name": "julia-1.4"
  },
  "language_info": {
   "file_extension": ".jl",
   "mimetype": "application/julia",
   "name": "julia",
   "version": "1.4.0"
  }
 },
 "nbformat": 4,
 "nbformat_minor": 4
}
