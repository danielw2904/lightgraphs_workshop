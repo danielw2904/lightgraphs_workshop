{
 "cells": [
  {
   "cell_type": "markdown",
   "metadata": {},
   "source": [
    "# Applications\n",
    "## Dependency analysis on the General registry\n",
    "\n",
    "https://github.com/JuliaRegistries/General  \n",
    "Default package registry\n",
    "\n",
    "Can we get insight on package relations?"
   ]
  },
  {
   "cell_type": "markdown",
   "metadata": {},
   "source": [
    "# 1 - Who uses LightGraphs?\n",
    "\n",
    "Tree of packages depending on lightgraphs, directly or transitively."
   ]
  },
  {
   "cell_type": "code",
   "execution_count": 1,
   "metadata": {},
   "outputs": [
    {
     "data": {
      "text/plain": [
       "Dict{String,Any} with 5 entries:\n",
       "  \"name\"        => \"General\"\n",
       "  \"repo\"        => \"https://github.com/JuliaRegistries/General.git\"\n",
       "  \"packages\"    => Dict{String,Any}(\"0efae8bf-39e6-5d65-b05d-c8947f4cee2a\"=>Dic…\n",
       "  \"uuid\"        => \"23338594-aafe-5451-b93e-139f81909106\"\n",
       "  \"description\" => \"Official general Julia package registry where people can\\nr…"
      ]
     },
     "execution_count": 1,
     "metadata": {},
     "output_type": "execute_result"
    }
   ],
   "source": [
    "import Pkg\n",
    "\n",
    "# change this to your path to General registry repo\n",
    "path_to_general = joinpath(@__DIR__, \"..\", \"General\")\n",
    "registry_file = Pkg.TOML.parsefile(joinpath(path_to_general, \"Registry.toml\"))"
   ]
  },
  {
   "cell_type": "code",
   "execution_count": 2,
   "metadata": {},
   "outputs": [],
   "source": [
    "packages_info = registry_file[\"packages\"];"
   ]
  },
  {
   "cell_type": "code",
   "execution_count": 3,
   "metadata": {},
   "outputs": [],
   "source": [
    "using LightGraphs\n",
    "using GraphPlot\n",
    "using Plots\n",
    "using MetaGraphs"
   ]
  },
  {
   "cell_type": "code",
   "execution_count": 4,
   "metadata": {},
   "outputs": [
    {
     "data": {
      "text/plain": [
       "(name = \"COSMA_jll\", path = \"C/COSMA_jll\")"
      ]
     },
     "execution_count": 4,
     "metadata": {},
     "output_type": "execute_result"
    }
   ],
   "source": [
    "pkg_paths = map(values(packages_info)) do d\n",
    "    (name = d[\"name\"], path = d[\"path\"])\n",
    "end\n",
    "first(pkg_paths)"
   ]
  },
  {
   "cell_type": "code",
   "execution_count": 5,
   "metadata": {},
   "outputs": [
    {
     "data": {
      "text/plain": [
       "find_direct_deps"
      ]
     },
     "execution_count": 5,
     "metadata": {},
     "output_type": "execute_result"
    }
   ],
   "source": [
    "\"\"\"\n",
    "Find the packages directly depending on a source package.\n",
    "\"\"\"\n",
    "function find_direct_deps(registry_path, pkg_paths, source)\n",
    "    filter(pkg_paths) do pkg_path\n",
    "        deps_file = joinpath(registry_path, pkg_path.path, \"Deps.toml\")\n",
    "        isfile(deps_file) && begin\n",
    "            deps_struct = Pkg.TOML.parsefile(deps_file)\n",
    "            any(values(deps_struct)) do d\n",
    "                source in keys(d)\n",
    "            end\n",
    "        end\n",
    "    end\n",
    "end"
   ]
  },
  {
   "cell_type": "code",
   "execution_count": 6,
   "metadata": {},
   "outputs": [
    {
     "data": {
      "text/plain": [
       "92-element Array{NamedTuple{(:name, :path),Tuple{String,String}},1}:\n",
       " (name = \"Mamba\", path = \"M/Mamba\")\n",
       " (name = \"LightGraphsGraphBLAS\", path = \"L/LightGraphsGraphBLAS\")\n",
       " (name = \"SimpleWeightedGraphs\", path = \"S/SimpleWeightedGraphs\")\n",
       " (name = \"QuantumWalk\", path = \"Q/QuantumWalk\")\n",
       " (name = \"Cookbook\", path = \"C/Cookbook\")\n",
       " (name = \"PicoQuant\", path = \"P/PicoQuant\")\n",
       " (name = \"Node2Vec\", path = \"N/Node2Vec\")\n",
       " (name = \"PorousMaterials\", path = \"P/PorousMaterials\")\n",
       " (name = \"CombinatorialBandits\", path = \"C/CombinatorialBandits\")\n",
       " (name = \"ProbabilisticCircuits\", path = \"P/ProbabilisticCircuits\")\n",
       " (name = \"ModelingToolkit\", path = \"M/ModelingToolkit\")\n",
       " (name = \"GraphRecipes\", path = \"G/GraphRecipes\")\n",
       " (name = \"SimpleHypergraphs\", path = \"S/SimpleHypergraphs\")\n",
       " ⋮\n",
       " (name = \"Soss\", path = \"S/Soss\")\n",
       " (name = \"GridapEmbedded\", path = \"G/GridapEmbedded\")\n",
       " (name = \"SpectralClustering\", path = \"S/SpectralClustering\")\n",
       " (name = \"PowerDynamics\", path = \"P/PowerDynamics\")\n",
       " (name = \"Dispatcher\", path = \"D/Dispatcher\")\n",
       " (name = \"JuliaGrid\", path = \"J/JuliaGrid\")\n",
       " (name = \"AgentsPlots\", path = \"A/AgentsPlots\")\n",
       " (name = \"Multigraphs\", path = \"M/Multigraphs\")\n",
       " (name = \"Circuitscape\", path = \"C/Circuitscape\")\n",
       " (name = \"LightGraphsFlows\", path = \"L/LightGraphsFlows\")\n",
       " (name = \"PowerModelsAnalytics\", path = \"P/PowerModelsAnalytics\")\n",
       " (name = \"ImageSegmentation\", path = \"I/ImageSegmentation\")"
      ]
     },
     "execution_count": 6,
     "metadata": {},
     "output_type": "execute_result"
    }
   ],
   "source": [
    "find_direct_deps(path_to_general, pkg_paths, \"LightGraphs\")"
   ]
  },
  {
   "cell_type": "markdown",
   "metadata": {},
   "source": [
    "What is your package? Who uses them?  \n",
    "How many depend on you? Bets are open!"
   ]
  },
  {
   "cell_type": "markdown",
   "metadata": {},
   "source": [
    "# Building a directed tree\n",
    "\n",
    "Directed tree --> all but one vertices have a **unique** outneighbor.  \n",
    "Starting from root package, add its dependencies, then dependencies of dependencies in breadth-first style."
   ]
  },
  {
   "cell_type": "code",
   "execution_count": 7,
   "metadata": {},
   "outputs": [
    {
     "data": {
      "text/plain": [
       "build_tree (generic function with 1 method)"
      ]
     },
     "execution_count": 7,
     "metadata": {},
     "output_type": "execute_result"
    }
   ],
   "source": [
    "function build_tree(registry_path, pkg_paths, root)\n",
    "    g = MetaDiGraph()\n",
    "    add_vertex!(g)\n",
    "    set_prop!(g, 1, :name, root)\n",
    "    i = 1\n",
    "    explored_nodes = Set{String}((root,))\n",
    "    while true\n",
    "        current_node = get_prop(g, i, :name)\n",
    "        direct_deps = find_direct_deps(registry_path, pkg_paths, current_node)\n",
    "        filter!(d -> d.name ∉ explored_nodes, direct_deps)\n",
    "        if isempty(direct_deps) && i >= nv(g)\n",
    "           break\n",
    "        end\n",
    "        for ddep in direct_deps\n",
    "           push!(explored_nodes, ddep.name)\n",
    "           add_vertex!(g)\n",
    "           set_prop!(g, nv(g), :name, ddep.name)\n",
    "           add_edge!(g, i, nv(g))\n",
    "        end\n",
    "        i += 1\n",
    "    end\n",
    "    return g\n",
    "end"
   ]
  },
  {
   "cell_type": "code",
   "execution_count": 8,
   "metadata": {},
   "outputs": [
    {
     "data": {
      "text/plain": [
       "{230, 229} directed Int64 metagraph with Float64 weights defined by :weight (default weight 1.0)"
      ]
     },
     "execution_count": 8,
     "metadata": {},
     "output_type": "execute_result"
    }
   ],
   "source": [
    "g = build_tree(path_to_general, pkg_paths, \"LightGraphs\")"
   ]
  },
  {
   "cell_type": "code",
   "execution_count": 9,
   "metadata": {},
   "outputs": [
    {
     "data": {
      "text/plain": [
       "92-element Array{String,1}:\n",
       " \"Mamba\"\n",
       " \"LightGraphsGraphBLAS\"\n",
       " \"SimpleWeightedGraphs\"\n",
       " \"QuantumWalk\"\n",
       " \"Cookbook\"\n",
       " \"PicoQuant\"\n",
       " \"Node2Vec\"\n",
       " \"PorousMaterials\"\n",
       " \"CombinatorialBandits\"\n",
       " \"ProbabilisticCircuits\"\n",
       " \"ModelingToolkit\"\n",
       " \"GraphRecipes\"\n",
       " \"SimpleHypergraphs\"\n",
       " ⋮\n",
       " \"Soss\"\n",
       " \"GridapEmbedded\"\n",
       " \"SpectralClustering\"\n",
       " \"PowerDynamics\"\n",
       " \"Dispatcher\"\n",
       " \"JuliaGrid\"\n",
       " \"AgentsPlots\"\n",
       " \"Multigraphs\"\n",
       " \"Circuitscape\"\n",
       " \"LightGraphsFlows\"\n",
       " \"PowerModelsAnalytics\"\n",
       " \"ImageSegmentation\""
      ]
     },
     "execution_count": 9,
     "metadata": {},
     "output_type": "execute_result"
    }
   ],
   "source": [
    "get_prop.(Ref(g), outneighbors(g, 1), :name)"
   ]
  },
  {
   "cell_type": "markdown",
   "metadata": {},
   "source": [
    "## Tree height?\n",
    "\n",
    "Shortest path from the root node to any other node:"
   ]
  },
  {
   "cell_type": "code",
   "execution_count": 10,
   "metadata": {},
   "outputs": [
    {
     "data": {
      "text/plain": [
       "230-element Array{Float64,1}:\n",
       " 0.0\n",
       " 1.0\n",
       " 1.0\n",
       " 1.0\n",
       " 1.0\n",
       " 1.0\n",
       " 1.0\n",
       " 1.0\n",
       " 1.0\n",
       " 1.0\n",
       " 1.0\n",
       " 1.0\n",
       " 1.0\n",
       " ⋮\n",
       " 4.0\n",
       " 4.0\n",
       " 4.0\n",
       " 4.0\n",
       " 4.0\n",
       " 5.0\n",
       " 5.0\n",
       " 5.0\n",
       " 5.0\n",
       " 5.0\n",
       " 5.0\n",
       " 6.0"
      ]
     },
     "execution_count": 10,
     "metadata": {},
     "output_type": "execute_result"
    }
   ],
   "source": [
    "spath_result = dijkstra_shortest_paths(g, 1)\n",
    "spath_result.dists"
   ]
  },
  {
   "cell_type": "code",
   "execution_count": 11,
   "metadata": {},
   "outputs": [
    {
     "data": {
      "text/plain": [
       "\"NTNk\""
      ]
     },
     "execution_count": 11,
     "metadata": {},
     "output_type": "execute_result"
    }
   ],
   "source": [
    "get_prop(g, nv(g), :name)"
   ]
  },
  {
   "cell_type": "markdown",
   "metadata": {},
   "source": [
    "## Frontier size"
   ]
  },
  {
   "cell_type": "code",
   "execution_count": 12,
   "metadata": {},
   "outputs": [
    {
     "data": {
      "image/svg+xml": [
       "<?xml version=\"1.0\" encoding=\"utf-8\"?>\n",
       "<svg xmlns=\"http://www.w3.org/2000/svg\" xmlns:xlink=\"http://www.w3.org/1999/xlink\" width=\"600\" height=\"400\" viewBox=\"0 0 2400 1600\">\n",
       "<defs>\n",
       "  <clipPath id=\"clip830\">\n",
       "    <rect x=\"0\" y=\"0\" width=\"2400\" height=\"1600\"/>\n",
       "  </clipPath>\n",
       "</defs>\n",
       "<path clip-path=\"url(#clip830)\" d=\"\n",
       "M0 1600 L2400 1600 L2400 0 L0 0  Z\n",
       "  \" fill=\"#ffffff\" fill-rule=\"evenodd\" fill-opacity=\"1\"/>\n",
       "<defs>\n",
       "  <clipPath id=\"clip831\">\n",
       "    <rect x=\"480\" y=\"0\" width=\"1681\" height=\"1600\"/>\n",
       "  </clipPath>\n",
       "</defs>\n",
       "<path clip-path=\"url(#clip830)\" d=\"\n",
       "M139.191 1486.45 L2352.76 1486.45 L2352.76 47.2441 L139.191 47.2441  Z\n",
       "  \" fill=\"#ffffff\" fill-rule=\"evenodd\" fill-opacity=\"1\"/>\n",
       "<defs>\n",
       "  <clipPath id=\"clip832\">\n",
       "    <rect x=\"139\" y=\"47\" width=\"2215\" height=\"1440\"/>\n",
       "  </clipPath>\n",
       "</defs>\n",
       "<polyline clip-path=\"url(#clip832)\" style=\"stroke:#000000; stroke-width:2; stroke-opacity:0.1; fill:none\" points=\"\n",
       "  260.941,1486.45 260.941,47.2441 \n",
       "  \"/>\n",
       "<polyline clip-path=\"url(#clip832)\" style=\"stroke:#000000; stroke-width:2; stroke-opacity:0.1; fill:none\" points=\"\n",
       "  823.817,1486.45 823.817,47.2441 \n",
       "  \"/>\n",
       "<polyline clip-path=\"url(#clip832)\" style=\"stroke:#000000; stroke-width:2; stroke-opacity:0.1; fill:none\" points=\"\n",
       "  1386.69,1486.45 1386.69,47.2441 \n",
       "  \"/>\n",
       "<polyline clip-path=\"url(#clip832)\" style=\"stroke:#000000; stroke-width:2; stroke-opacity:0.1; fill:none\" points=\"\n",
       "  1949.57,1486.45 1949.57,47.2441 \n",
       "  \"/>\n",
       "<polyline clip-path=\"url(#clip832)\" style=\"stroke:#000000; stroke-width:2; stroke-opacity:0.1; fill:none\" points=\"\n",
       "  139.191,1445.72 2352.76,1445.72 \n",
       "  \"/>\n",
       "<polyline clip-path=\"url(#clip832)\" style=\"stroke:#000000; stroke-width:2; stroke-opacity:0.1; fill:none\" points=\"\n",
       "  139.191,1150.55 2352.76,1150.55 \n",
       "  \"/>\n",
       "<polyline clip-path=\"url(#clip832)\" style=\"stroke:#000000; stroke-width:2; stroke-opacity:0.1; fill:none\" points=\"\n",
       "  139.191,855.394 2352.76,855.394 \n",
       "  \"/>\n",
       "<polyline clip-path=\"url(#clip832)\" style=\"stroke:#000000; stroke-width:2; stroke-opacity:0.1; fill:none\" points=\"\n",
       "  139.191,560.233 2352.76,560.233 \n",
       "  \"/>\n",
       "<polyline clip-path=\"url(#clip832)\" style=\"stroke:#000000; stroke-width:2; stroke-opacity:0.1; fill:none\" points=\"\n",
       "  139.191,265.073 2352.76,265.073 \n",
       "  \"/>\n",
       "<polyline clip-path=\"url(#clip830)\" style=\"stroke:#000000; stroke-width:4; stroke-opacity:1; fill:none\" points=\"\n",
       "  139.191,1486.45 2352.76,1486.45 \n",
       "  \"/>\n",
       "<polyline clip-path=\"url(#clip830)\" style=\"stroke:#000000; stroke-width:4; stroke-opacity:1; fill:none\" points=\"\n",
       "  139.191,1486.45 139.191,47.2441 \n",
       "  \"/>\n",
       "<polyline clip-path=\"url(#clip830)\" style=\"stroke:#000000; stroke-width:4; stroke-opacity:1; fill:none\" points=\"\n",
       "  260.941,1486.45 260.941,1469.18 \n",
       "  \"/>\n",
       "<polyline clip-path=\"url(#clip830)\" style=\"stroke:#000000; stroke-width:4; stroke-opacity:1; fill:none\" points=\"\n",
       "  823.817,1486.45 823.817,1469.18 \n",
       "  \"/>\n",
       "<polyline clip-path=\"url(#clip830)\" style=\"stroke:#000000; stroke-width:4; stroke-opacity:1; fill:none\" points=\"\n",
       "  1386.69,1486.45 1386.69,1469.18 \n",
       "  \"/>\n",
       "<polyline clip-path=\"url(#clip830)\" style=\"stroke:#000000; stroke-width:4; stroke-opacity:1; fill:none\" points=\"\n",
       "  1949.57,1486.45 1949.57,1469.18 \n",
       "  \"/>\n",
       "<polyline clip-path=\"url(#clip830)\" style=\"stroke:#000000; stroke-width:4; stroke-opacity:1; fill:none\" points=\"\n",
       "  139.191,1445.72 165.754,1445.72 \n",
       "  \"/>\n",
       "<polyline clip-path=\"url(#clip830)\" style=\"stroke:#000000; stroke-width:4; stroke-opacity:1; fill:none\" points=\"\n",
       "  139.191,1150.55 165.754,1150.55 \n",
       "  \"/>\n",
       "<polyline clip-path=\"url(#clip830)\" style=\"stroke:#000000; stroke-width:4; stroke-opacity:1; fill:none\" points=\"\n",
       "  139.191,855.394 165.754,855.394 \n",
       "  \"/>\n",
       "<polyline clip-path=\"url(#clip830)\" style=\"stroke:#000000; stroke-width:4; stroke-opacity:1; fill:none\" points=\"\n",
       "  139.191,560.233 165.754,560.233 \n",
       "  \"/>\n",
       "<polyline clip-path=\"url(#clip830)\" style=\"stroke:#000000; stroke-width:4; stroke-opacity:1; fill:none\" points=\"\n",
       "  139.191,265.073 165.754,265.073 \n",
       "  \"/>\n",
       "<path clip-path=\"url(#clip830)\" d=\"M 0 0 M260.941 1508.44 Q257.33 1508.44 255.501 1512 Q253.696 1515.55 253.696 1522.67 Q253.696 1529.78 255.501 1533.35 Q257.33 1536.89 260.941 1536.89 Q264.575 1536.89 266.381 1533.35 Q268.209 1529.78 268.209 1522.67 Q268.209 1515.55 266.381 1512 Q264.575 1508.44 260.941 1508.44 M260.941 1504.73 Q266.751 1504.73 269.807 1509.34 Q272.885 1513.92 272.885 1522.67 Q272.885 1531.4 269.807 1536.01 Q266.751 1540.59 260.941 1540.59 Q255.131 1540.59 252.052 1536.01 Q248.997 1531.4 248.997 1522.67 Q248.997 1513.92 252.052 1509.34 Q255.131 1504.73 260.941 1504.73 Z\" fill=\"#000000\" fill-rule=\"evenodd\" fill-opacity=\"1\" /><path clip-path=\"url(#clip830)\" d=\"M 0 0 M818.469 1535.98 L834.789 1535.98 L834.789 1539.92 L812.844 1539.92 L812.844 1535.98 Q815.506 1533.23 820.09 1528.6 Q824.696 1523.95 825.877 1522.61 Q828.122 1520.08 829.002 1518.35 Q829.905 1516.59 829.905 1514.9 Q829.905 1512.14 827.96 1510.41 Q826.039 1508.67 822.937 1508.67 Q820.738 1508.67 818.284 1509.43 Q815.854 1510.2 813.076 1511.75 L813.076 1507.03 Q815.9 1505.89 818.354 1505.31 Q820.807 1504.73 822.844 1504.73 Q828.215 1504.73 831.409 1507.42 Q834.604 1510.11 834.604 1514.6 Q834.604 1516.73 833.793 1518.65 Q833.006 1520.54 830.9 1523.14 Q830.321 1523.81 827.219 1527.03 Q824.118 1530.22 818.469 1535.98 Z\" fill=\"#000000\" fill-rule=\"evenodd\" fill-opacity=\"1\" /><path clip-path=\"url(#clip830)\" d=\"M 0 0 M1389.7 1509.43 L1377.9 1527.88 L1389.7 1527.88 L1389.7 1509.43 M1388.47 1505.36 L1394.35 1505.36 L1394.35 1527.88 L1399.28 1527.88 L1399.28 1531.77 L1394.35 1531.77 L1394.35 1539.92 L1389.7 1539.92 L1389.7 1531.77 L1374.1 1531.77 L1374.1 1527.26 L1388.47 1505.36 Z\" fill=\"#000000\" fill-rule=\"evenodd\" fill-opacity=\"1\" /><path clip-path=\"url(#clip830)\" d=\"M 0 0 M1949.97 1520.78 Q1946.82 1520.78 1944.97 1522.93 Q1943.14 1525.08 1943.14 1528.83 Q1943.14 1532.56 1944.97 1534.73 Q1946.82 1536.89 1949.97 1536.89 Q1953.12 1536.89 1954.95 1534.73 Q1956.8 1532.56 1956.8 1528.83 Q1956.8 1525.08 1954.95 1522.93 Q1953.12 1520.78 1949.97 1520.78 M1959.26 1506.12 L1959.26 1510.38 Q1957.5 1509.55 1955.69 1509.11 Q1953.91 1508.67 1952.15 1508.67 Q1947.52 1508.67 1945.07 1511.8 Q1942.64 1514.92 1942.29 1521.24 Q1943.65 1519.23 1945.71 1518.16 Q1947.77 1517.07 1950.25 1517.07 Q1955.46 1517.07 1958.47 1520.24 Q1961.5 1523.39 1961.5 1528.83 Q1961.5 1534.16 1958.35 1537.37 Q1955.2 1540.59 1949.97 1540.59 Q1943.98 1540.59 1940.81 1536.01 Q1937.64 1531.4 1937.64 1522.67 Q1937.64 1514.48 1941.52 1509.62 Q1945.41 1504.73 1951.96 1504.73 Q1953.72 1504.73 1955.51 1505.08 Q1957.31 1505.43 1959.26 1506.12 Z\" fill=\"#000000\" fill-rule=\"evenodd\" fill-opacity=\"1\" /><path clip-path=\"url(#clip830)\" d=\"M 0 0 M103.247 1431.51 Q99.6354 1431.51 97.8068 1435.08 Q96.0012 1438.62 96.0012 1445.75 Q96.0012 1452.86 97.8068 1456.42 Q99.6354 1459.96 103.247 1459.96 Q106.881 1459.96 108.686 1456.42 Q110.515 1452.86 110.515 1445.75 Q110.515 1438.62 108.686 1435.08 Q106.881 1431.51 103.247 1431.51 M103.247 1427.81 Q109.057 1427.81 112.112 1432.42 Q115.191 1437 115.191 1445.75 Q115.191 1454.48 112.112 1459.08 Q109.057 1463.67 103.247 1463.67 Q97.4364 1463.67 94.3577 1459.08 Q91.3022 1454.48 91.3022 1445.75 Q91.3022 1437 94.3577 1432.42 Q97.4364 1427.81 103.247 1427.81 Z\" fill=\"#000000\" fill-rule=\"evenodd\" fill-opacity=\"1\" /><path clip-path=\"url(#clip830)\" d=\"M 0 0 M71.8578 1163.9 L88.1772 1163.9 L88.1772 1167.83 L66.2328 1167.83 L66.2328 1163.9 Q68.8949 1161.15 73.4782 1156.52 Q78.0846 1151.86 79.2652 1150.52 Q81.5105 1148 82.3902 1146.26 Q83.2929 1144.5 83.2929 1142.81 Q83.2929 1140.06 81.3485 1138.32 Q79.4272 1136.59 76.3254 1136.59 Q74.1263 1136.59 71.6726 1137.35 Q69.2421 1138.11 66.4643 1139.66 L66.4643 1134.94 Q69.2884 1133.81 71.7421 1133.23 Q74.1958 1132.65 76.2328 1132.65 Q81.6031 1132.65 84.7976 1135.34 Q87.992 1138.02 87.992 1142.51 Q87.992 1144.64 87.1818 1146.56 Q86.3948 1148.46 84.2883 1151.05 Q83.7096 1151.72 80.6078 1154.94 Q77.5059 1158.14 71.8578 1163.9 Z\" fill=\"#000000\" fill-rule=\"evenodd\" fill-opacity=\"1\" /><path clip-path=\"url(#clip830)\" d=\"M 0 0 M103.247 1136.35 Q99.6354 1136.35 97.8068 1139.92 Q96.0012 1143.46 96.0012 1150.59 Q96.0012 1157.7 97.8068 1161.26 Q99.6354 1164.8 103.247 1164.8 Q106.881 1164.8 108.686 1161.26 Q110.515 1157.7 110.515 1150.59 Q110.515 1143.46 108.686 1139.92 Q106.881 1136.35 103.247 1136.35 M103.247 1132.65 Q109.057 1132.65 112.112 1137.26 Q115.191 1141.84 115.191 1150.59 Q115.191 1159.32 112.112 1163.92 Q109.057 1168.51 103.247 1168.51 Q97.4364 1168.51 94.3577 1163.92 Q91.3022 1159.32 91.3022 1150.59 Q91.3022 1141.84 94.3577 1137.26 Q97.4364 1132.65 103.247 1132.65 Z\" fill=\"#000000\" fill-rule=\"evenodd\" fill-opacity=\"1\" /><path clip-path=\"url(#clip830)\" d=\"M 0 0 M78.5939 842.188 L66.7884 860.637 L78.5939 860.637 L78.5939 842.188 M77.367 838.114 L83.2466 838.114 L83.2466 860.637 L88.1772 860.637 L88.1772 864.526 L83.2466 864.526 L83.2466 872.674 L78.5939 872.674 L78.5939 864.526 L62.9921 864.526 L62.9921 860.012 L77.367 838.114 Z\" fill=\"#000000\" fill-rule=\"evenodd\" fill-opacity=\"1\" /><path clip-path=\"url(#clip830)\" d=\"M 0 0 M103.247 841.193 Q99.6354 841.193 97.8068 844.758 Q96.0012 848.299 96.0012 855.429 Q96.0012 862.535 97.8068 866.1 Q99.6354 869.642 103.247 869.642 Q106.881 869.642 108.686 866.1 Q110.515 862.535 110.515 855.429 Q110.515 848.299 108.686 844.758 Q106.881 841.193 103.247 841.193 M103.247 837.489 Q109.057 837.489 112.112 842.096 Q115.191 846.679 115.191 855.429 Q115.191 864.156 112.112 868.762 Q109.057 873.345 103.247 873.345 Q97.4364 873.345 94.3577 868.762 Q91.3022 864.156 91.3022 855.429 Q91.3022 846.679 94.3577 842.096 Q97.4364 837.489 103.247 837.489 Z\" fill=\"#000000\" fill-rule=\"evenodd\" fill-opacity=\"1\" /><path clip-path=\"url(#clip830)\" d=\"M 0 0 M76.6495 558.37 Q73.5013 558.37 71.6495 560.523 Q69.8208 562.676 69.8208 566.426 Q69.8208 570.152 71.6495 572.328 Q73.5013 574.481 76.6495 574.481 Q79.7976 574.481 81.6263 572.328 Q83.4781 570.152 83.4781 566.426 Q83.4781 562.676 81.6263 560.523 Q79.7976 558.37 76.6495 558.37 M85.9318 543.717 L85.9318 547.977 Q84.1726 547.143 82.367 546.703 Q80.5846 546.264 78.8254 546.264 Q74.1958 546.264 71.7421 549.389 Q69.3115 552.514 68.9643 558.833 Q70.33 556.819 72.3902 555.754 Q74.4504 554.666 76.9272 554.666 Q82.1355 554.666 85.1448 557.838 Q88.1772 560.986 88.1772 566.426 Q88.1772 571.75 85.029 574.967 Q81.8809 578.185 76.6495 578.185 Q70.6541 578.185 67.4828 573.601 Q64.3116 568.995 64.3116 560.268 Q64.3116 552.074 68.2004 547.213 Q72.0893 542.328 78.6402 542.328 Q80.3994 542.328 82.1818 542.676 Q83.9874 543.023 85.9318 543.717 Z\" fill=\"#000000\" fill-rule=\"evenodd\" fill-opacity=\"1\" /><path clip-path=\"url(#clip830)\" d=\"M 0 0 M103.247 546.032 Q99.6354 546.032 97.8068 549.597 Q96.0012 553.139 96.0012 560.268 Q96.0012 567.375 97.8068 570.939 Q99.6354 574.481 103.247 574.481 Q106.881 574.481 108.686 570.939 Q110.515 567.375 110.515 560.268 Q110.515 553.139 108.686 549.597 Q106.881 546.032 103.247 546.032 M103.247 542.328 Q109.057 542.328 112.112 546.935 Q115.191 551.518 115.191 560.268 Q115.191 568.995 112.112 573.601 Q109.057 578.185 103.247 578.185 Q97.4364 578.185 94.3577 573.601 Q91.3022 568.995 91.3022 560.268 Q91.3022 551.518 94.3577 546.935 Q97.4364 542.328 103.247 542.328 Z\" fill=\"#000000\" fill-rule=\"evenodd\" fill-opacity=\"1\" /><path clip-path=\"url(#clip830)\" d=\"M 0 0 M76.3254 265.941 Q72.9921 265.941 71.0708 267.723 Q69.1726 269.506 69.1726 272.631 Q69.1726 275.756 71.0708 277.538 Q72.9921 279.32 76.3254 279.32 Q79.6587 279.32 81.58 277.538 Q83.5013 275.732 83.5013 272.631 Q83.5013 269.506 81.58 267.723 Q79.6819 265.941 76.3254 265.941 M71.6495 263.95 Q68.6402 263.209 66.9504 261.149 Q65.2838 259.089 65.2838 256.126 Q65.2838 251.983 68.2236 249.575 Q71.1865 247.168 76.3254 247.168 Q81.4874 247.168 84.4272 249.575 Q87.367 251.983 87.367 256.126 Q87.367 259.089 85.6772 261.149 Q84.0105 263.209 81.0244 263.95 Q84.404 264.737 86.279 267.029 Q88.1772 269.32 88.1772 272.631 Q88.1772 277.654 85.0985 280.339 Q82.0429 283.024 76.3254 283.024 Q70.6078 283.024 67.5291 280.339 Q64.4736 277.654 64.4736 272.631 Q64.4736 269.32 66.3717 267.029 Q68.2699 264.737 71.6495 263.95 M69.9365 256.566 Q69.9365 259.251 71.6032 260.756 Q73.293 262.26 76.3254 262.26 Q79.3346 262.26 81.0244 260.756 Q82.7374 259.251 82.7374 256.566 Q82.7374 253.881 81.0244 252.376 Q79.3346 250.871 76.3254 250.871 Q73.293 250.871 71.6032 252.376 Q69.9365 253.881 69.9365 256.566 Z\" fill=\"#000000\" fill-rule=\"evenodd\" fill-opacity=\"1\" /><path clip-path=\"url(#clip830)\" d=\"M 0 0 M103.247 250.871 Q99.6354 250.871 97.8068 254.436 Q96.0012 257.978 96.0012 265.107 Q96.0012 272.214 97.8068 275.779 Q99.6354 279.32 103.247 279.32 Q106.881 279.32 108.686 275.779 Q110.515 272.214 110.515 265.107 Q110.515 257.978 108.686 254.436 Q106.881 250.871 103.247 250.871 M103.247 247.168 Q109.057 247.168 112.112 251.774 Q115.191 256.357 115.191 265.107 Q115.191 273.834 112.112 278.441 Q109.057 283.024 103.247 283.024 Q97.4364 283.024 94.3577 278.441 Q91.3022 273.834 91.3022 265.107 Q91.3022 256.357 94.3577 251.774 Q97.4364 247.168 103.247 247.168 Z\" fill=\"#000000\" fill-rule=\"evenodd\" fill-opacity=\"1\" /><path clip-path=\"url(#clip832)\" d=\"\n",
       "M260.941 1430.96 L260.941 1445.72 L542.379 1445.72 L542.379 1430.96 L260.941 1430.96 L260.941 1430.96  Z\n",
       "  \" fill=\"#009af9\" fill-rule=\"evenodd\" fill-opacity=\"1\"/>\n",
       "<polyline clip-path=\"url(#clip832)\" style=\"stroke:#000000; stroke-width:4; stroke-opacity:1; fill:none\" points=\"\n",
       "  260.941,1430.96 260.941,1445.72 542.379,1445.72 542.379,1430.96 260.941,1430.96 \n",
       "  \"/>\n",
       "<path clip-path=\"url(#clip832)\" d=\"\n",
       "M542.379 87.9763 L542.379 1445.72 L823.817 1445.72 L823.817 87.9763 L542.379 87.9763 L542.379 87.9763  Z\n",
       "  \" fill=\"#009af9\" fill-rule=\"evenodd\" fill-opacity=\"1\"/>\n",
       "<polyline clip-path=\"url(#clip832)\" style=\"stroke:#000000; stroke-width:4; stroke-opacity:1; fill:none\" points=\"\n",
       "  542.379,87.9763 542.379,1445.72 823.817,1445.72 823.817,87.9763 542.379,87.9763 \n",
       "  \"/>\n",
       "<path clip-path=\"url(#clip832)\" d=\"\n",
       "M823.817 545.475 L823.817 1445.72 L1105.25 1445.72 L1105.25 545.475 L823.817 545.475 L823.817 545.475  Z\n",
       "  \" fill=\"#009af9\" fill-rule=\"evenodd\" fill-opacity=\"1\"/>\n",
       "<polyline clip-path=\"url(#clip832)\" style=\"stroke:#000000; stroke-width:4; stroke-opacity:1; fill:none\" points=\"\n",
       "  823.817,545.475 823.817,1445.72 1105.25,1445.72 1105.25,545.475 823.817,545.475 \n",
       "  \"/>\n",
       "<path clip-path=\"url(#clip832)\" d=\"\n",
       "M1105.25 811.12 L1105.25 1445.72 L1386.69 1445.72 L1386.69 811.12 L1105.25 811.12 L1105.25 811.12  Z\n",
       "  \" fill=\"#009af9\" fill-rule=\"evenodd\" fill-opacity=\"1\"/>\n",
       "<polyline clip-path=\"url(#clip832)\" style=\"stroke:#000000; stroke-width:4; stroke-opacity:1; fill:none\" points=\"\n",
       "  1105.25,811.12 1105.25,1445.72 1386.69,1445.72 1386.69,811.12 1105.25,811.12 \n",
       "  \"/>\n",
       "<path clip-path=\"url(#clip832)\" d=\"\n",
       "M1386.69 1062.01 L1386.69 1445.72 L1668.13 1445.72 L1668.13 1062.01 L1386.69 1062.01 L1386.69 1062.01  Z\n",
       "  \" fill=\"#009af9\" fill-rule=\"evenodd\" fill-opacity=\"1\"/>\n",
       "<polyline clip-path=\"url(#clip832)\" style=\"stroke:#000000; stroke-width:4; stroke-opacity:1; fill:none\" points=\"\n",
       "  1386.69,1062.01 1386.69,1445.72 1668.13,1445.72 1668.13,1062.01 1386.69,1062.01 \n",
       "  \"/>\n",
       "<path clip-path=\"url(#clip832)\" d=\"\n",
       "M1668.13 1357.17 L1668.13 1445.72 L1949.57 1445.72 L1949.57 1357.17 L1668.13 1357.17 L1668.13 1357.17  Z\n",
       "  \" fill=\"#009af9\" fill-rule=\"evenodd\" fill-opacity=\"1\"/>\n",
       "<polyline clip-path=\"url(#clip832)\" style=\"stroke:#000000; stroke-width:4; stroke-opacity:1; fill:none\" points=\"\n",
       "  1668.13,1357.17 1668.13,1445.72 1949.57,1445.72 1949.57,1357.17 1668.13,1357.17 \n",
       "  \"/>\n",
       "<path clip-path=\"url(#clip832)\" d=\"\n",
       "M1949.57 1430.96 L1949.57 1445.72 L2231.01 1445.72 L2231.01 1430.96 L1949.57 1430.96 L1949.57 1430.96  Z\n",
       "  \" fill=\"#009af9\" fill-rule=\"evenodd\" fill-opacity=\"1\"/>\n",
       "<polyline clip-path=\"url(#clip832)\" style=\"stroke:#000000; stroke-width:4; stroke-opacity:1; fill:none\" points=\"\n",
       "  1949.57,1430.96 1949.57,1445.72 2231.01,1445.72 2231.01,1430.96 1949.57,1430.96 \n",
       "  \"/>\n",
       "</svg>\n"
      ]
     },
     "execution_count": 12,
     "metadata": {},
     "output_type": "execute_result"
    }
   ],
   "source": [
    "histogram(spath_result.dists, label=\"\")"
   ]
  },
  {
   "cell_type": "markdown",
   "metadata": {},
   "source": [
    "## Hop-5 from LightGraphs"
   ]
  },
  {
   "cell_type": "code",
   "execution_count": 13,
   "metadata": {},
   "outputs": [
    {
     "name": "stderr",
     "output_type": "stream",
     "text": [
      "┌ Info: NTFk\n",
      "└ @ Main In[13]:3\n",
      "┌ Info: TransferEntropy\n",
      "└ @ Main In[13]:3\n",
      "┌ Info: PerronFrobenius\n",
      "└ @ Main In[13]:3\n",
      "┌ Info: CrossMappings\n",
      "└ @ Main In[13]:3\n",
      "┌ Info: InteractiveChaos\n",
      "└ @ Main In[13]:3\n",
      "┌ Info: TimeseriesSurrogates\n",
      "└ @ Main In[13]:3\n"
     ]
    }
   ],
   "source": [
    "for idx in eachindex(spath_result.dists)\n",
    "    if spath_result.dists[idx] == 5\n",
    "        @info get_prop(g, idx, :name)\n",
    "    end\n",
    "end"
   ]
  },
  {
   "cell_type": "markdown",
   "metadata": {},
   "source": [
    "# Computing a full sub-graph"
   ]
  },
  {
   "cell_type": "code",
   "execution_count": 14,
   "metadata": {},
   "outputs": [],
   "source": [
    "all_packages = get_prop.(Ref(g), vertices(g), :name);\n",
    "full_graph = MetaDiGraph(length(all_packages))\n",
    "for v in vertices(full_graph)\n",
    "    set_prop!(full_graph, v, :name, all_packages[v])\n",
    "end"
   ]
  },
  {
   "cell_type": "code",
   "execution_count": 15,
   "metadata": {},
   "outputs": [],
   "source": [
    "for v in vertices(full_graph)\n",
    "    pkg_name = get_prop(full_graph, v, :name)\n",
    "    dependent_packages = find_direct_deps(path_to_general, pkg_paths, pkg_name)\n",
    "    for dep_pkg in dependent_packages\n",
    "        pkg_idx = findfirst(==(dep_pkg.name), all_packages)\n",
    "        # only packages in graph\n",
    "        if pkg_idx !== nothing\n",
    "            add_edge!(full_graph, pkg_idx, v)\n",
    "        end\n",
    "    end\n",
    "end"
   ]
  },
  {
   "cell_type": "code",
   "execution_count": 16,
   "metadata": {},
   "outputs": [
    {
     "data": {
      "text/plain": [
       "{230, 412} directed Int64 metagraph with Float64 weights defined by :weight (default weight 1.0)"
      ]
     },
     "execution_count": 16,
     "metadata": {},
     "output_type": "execute_result"
    }
   ],
   "source": [
    "full_graph"
   ]
  },
  {
   "cell_type": "markdown",
   "metadata": {},
   "source": [
    "## Which packages matter: centrality\n",
    "\n",
    "Multiple measures, pick your favorite:  \n",
    "https://juliagraphs.org/LightGraphs.jl/stable/centrality/"
   ]
  },
  {
   "cell_type": "code",
   "execution_count": 17,
   "metadata": {},
   "outputs": [
    {
     "data": {
      "text/plain": [
       "230-element Array{String,1}:\n",
       " \"LightGraphs\"\n",
       " \"OrdinaryDiffEq\"\n",
       " \"ModelingToolkit\"\n",
       " \"SparseDiffTools\"\n",
       " \"DiffEqOperators\"\n",
       " \"MetaGraphs\"\n",
       " \"DiffEqCallbacks\"\n",
       " \"VertexSafeGraphs\"\n",
       " \"DifferentialEquations\"\n",
       " \"POMDPs\"\n",
       " \"Mamba\"\n",
       " \"DynamicalSystemsBase\"\n",
       " \"SimpleWeightedGraphs\"\n",
       " ⋮\n",
       " \"Molly\"\n",
       " \"Manopt\"\n",
       " \"CurricularVisualization\"\n",
       " \"EntropicCone\"\n",
       " \"ReachabilityAnalysis\"\n",
       " \"RoMEPlotting\"\n",
       " \"RevealedPreferences\"\n",
       " \"PeriodicGraphs\"\n",
       " \"UMAP\"\n",
       " \"OpenSMILES\"\n",
       " \"PkgUtils\"\n",
       " \"NTNk\""
      ]
     },
     "execution_count": 17,
     "metadata": {},
     "output_type": "execute_result"
    }
   ],
   "source": [
    "ranks = pagerank(full_graph)\n",
    "sorted_indices = sort(eachindex(ranks), by=i->ranks[i], rev=true)\n",
    "get_prop.(Ref(full_graph), sorted_indices, :name)"
   ]
  },
  {
   "cell_type": "markdown",
   "metadata": {},
   "source": [
    "## Most dependencies, most depending on\n",
    "\n",
    "Simple measure: edges in and out"
   ]
  },
  {
   "cell_type": "code",
   "execution_count": 18,
   "metadata": {},
   "outputs": [
    {
     "data": {
      "text/plain": [
       "230-element Array{String,1}:\n",
       " \"LightGraphs\"\n",
       " \"OrdinaryDiffEq\"\n",
       " \"DifferentialEquations\"\n",
       " \"MetaGraphs\"\n",
       " \"DiffEqCallbacks\"\n",
       " \"SimpleWeightedGraphs\"\n",
       " \"ModelingToolkit\"\n",
       " \"POMDPs\"\n",
       " \"GraphPlot\"\n",
       " \"StochasticDiffEq\"\n",
       " \"Turing\"\n",
       " \"DynamicalSystemsBase\"\n",
       " \"POMDPModelTools\"\n",
       " ⋮\n",
       " \"PkgUtils\"\n",
       " \"QuickPOMDPs\"\n",
       " \"Bio\"\n",
       " \"Molly\"\n",
       " \"Manopt\"\n",
       " \"CurricularVisualization\"\n",
       " \"EntropicCone\"\n",
       " \"ReachabilityAnalysis\"\n",
       " \"RoMEPlotting\"\n",
       " \"FlashWeave\"\n",
       " \"StaticGraphs\"\n",
       " \"NTNk\""
      ]
     },
     "execution_count": 18,
     "metadata": {},
     "output_type": "execute_result"
    }
   ],
   "source": [
    "in_sorted_indices = sort(vertices(full_graph), by=i->indegree(full_graph, i) , rev=true)\n",
    "get_prop.(Ref(full_graph), in_sorted_indices, :name)"
   ]
  },
  {
   "cell_type": "code",
   "execution_count": 19,
   "metadata": {},
   "outputs": [
    {
     "data": {
      "text/plain": [
       "230-element Array{String,1}:\n",
       " \"CausalityTools\"\n",
       " \"DiffEqTutorials\"\n",
       " \"DifferentialEquations\"\n",
       " \"SemanticModels\"\n",
       " \"DiffEqBayes\"\n",
       " \"PowerDynamics\"\n",
       " \"PicoQuant\"\n",
       " \"Petri\"\n",
       " \"Jusdl\"\n",
       " \"Soss\"\n",
       " \"QuickPOMDPs\"\n",
       " \"POMDPModels\"\n",
       " \"POMDPSimulators\"\n",
       " ⋮\n",
       " \"StanMamba\"\n",
       " \"PowerModelsAnalytics\"\n",
       " \"LightGraphsFlows\"\n",
       " \"Multigraphs\"\n",
       " \"JuliaGrid\"\n",
       " \"Dispatcher\"\n",
       " \"GridapEmbedded\"\n",
       " \"GraphPlot\"\n",
       " \"ItemGraphs\"\n",
       " \"FractionalGaussianFields\"\n",
       " \"StochOptInterface\"\n",
       " \"LightGraphs\""
      ]
     },
     "execution_count": 19,
     "metadata": {},
     "output_type": "execute_result"
    }
   ],
   "source": [
    "out_sorted_indices = sort(vertices(full_graph), by=i->outdegree(full_graph, i) , rev=true)\n",
    "get_prop.(Ref(full_graph), out_sorted_indices, :name)"
   ]
  },
  {
   "cell_type": "code",
   "execution_count": 20,
   "metadata": {},
   "outputs": [
    {
     "data": {
      "text/plain": [
       "230-element Array{String,1}:\n",
       " \"OrdinaryDiffEq\"\n",
       " \"DifferentialEquations\"\n",
       " \"SparseDiffTools\"\n",
       " \"StochasticDiffEq\"\n",
       " \"DiffEqOperators\"\n",
       " \"ReinforcementLearning\"\n",
       " \"DynamicalSystemsBase\"\n",
       " \"ReinforcementLearningEnvironments\"\n",
       " \"DiffEqSensitivity\"\n",
       " \"Mads\"\n",
       " \"POMDPModels\"\n",
       " \"ChaosTools\"\n",
       " \"ParameterizedFunctions\"\n",
       " ⋮\n",
       " \"Jags\"\n",
       " \"Soss\"\n",
       " \"GridapEmbedded\"\n",
       " \"SpectralClustering\"\n",
       " \"PowerDynamics\"\n",
       " \"JuliaGrid\"\n",
       " \"AgentsPlots\"\n",
       " \"Multigraphs\"\n",
       " \"LightGraphsFlows\"\n",
       " \"PowerModelsAnalytics\"\n",
       " \"StanMamba\"\n",
       " \"NTNk\""
      ]
     },
     "execution_count": 20,
     "metadata": {},
     "output_type": "execute_result"
    }
   ],
   "source": [
    "ranks_betweenness = betweenness_centrality(full_graph)\n",
    "sorted_indices_betweenness = sort(vertices(full_graph), by=i->ranks_betweenness[i], rev=true)\n",
    "get_prop.(Ref(full_graph), sorted_indices_betweenness, :name)"
   ]
  },
  {
   "cell_type": "markdown",
   "metadata": {},
   "source": [
    "# Dependencies are Directed Acyclic right?"
   ]
  },
  {
   "cell_type": "code",
   "execution_count": 21,
   "metadata": {},
   "outputs": [
    {
     "data": {
      "text/plain": [
       "true"
      ]
     },
     "execution_count": 21,
     "metadata": {},
     "output_type": "execute_result"
    }
   ],
   "source": [
    "is_cyclic(full_graph)"
   ]
  },
  {
   "cell_type": "code",
   "execution_count": 22,
   "metadata": {},
   "outputs": [
    {
     "name": "stderr",
     "output_type": "stream",
     "text": [
      "┌ Info: [\"StateSpaceRoutines\", \"DSGE\"]\n",
      "└ @ Main In[22]:3\n",
      "┌ Info: [\"ReinforcementLearningEnvironmentDiscrete\", \"ReinforcementLearning\"]\n",
      "└ @ Main In[22]:3\n"
     ]
    }
   ],
   "source": [
    "for cycle in simplecycles(full_graph)\n",
    "    names = get_prop.(Ref(full_graph), cycle, :name)\n",
    "    @info names\n",
    "end"
   ]
  }
 ],
 "metadata": {
  "kernelspec": {
   "display_name": "Julia 1.4.0",
   "language": "julia",
   "name": "julia-1.4"
  },
  "language_info": {
   "file_extension": ".jl",
   "mimetype": "application/julia",
   "name": "julia",
   "version": "1.4.0"
  }
 },
 "nbformat": 4,
 "nbformat_minor": 4
}
