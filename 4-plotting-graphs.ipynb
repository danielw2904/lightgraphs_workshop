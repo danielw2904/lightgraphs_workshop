{
 "cells": [
  {
   "cell_type": "markdown",
   "metadata": {},
   "source": [
    "# Plotting graphs"
   ]
  },
  {
   "cell_type": "markdown",
   "metadata": {},
   "source": [
    "### Setup"
   ]
  },
  {
   "cell_type": "code",
   "execution_count": null,
   "metadata": {},
   "outputs": [],
   "source": [
    "using LightGraphs\n",
    "\n",
    "# We will looks at this package\n",
    "using GraphPlot\n",
    "\n",
    "# Helper packges\n",
    "using Colors, Random"
   ]
  },
  {
   "cell_type": "markdown",
   "metadata": {},
   "source": [
    "## Plotting and attributes"
   ]
  },
  {
   "cell_type": "markdown",
   "metadata": {},
   "source": [
    "Lets create a graph:"
   ]
  },
  {
   "cell_type": "code",
   "execution_count": null,
   "metadata": {
    "scrolled": true
   },
   "outputs": [],
   "source": [
    "g = smallgraph(:petersen)"
   ]
  },
  {
   "cell_type": "markdown",
   "metadata": {},
   "source": [
    "Not very informative, lets use `gplot` (in terminal `gplothtml`) from `GrapPlot.jl`"
   ]
  },
  {
   "cell_type": "code",
   "execution_count": null,
   "metadata": {
    "scrolled": false
   },
   "outputs": [],
   "source": [
    "gplot(g)"
   ]
  },
  {
   "cell_type": "markdown",
   "metadata": {},
   "source": [
    "Repeat a view times, will look different every time"
   ]
  },
  {
   "cell_type": "markdown",
   "metadata": {},
   "source": [
    "Lets look what options we have:"
   ]
  },
  {
   "cell_type": "code",
   "execution_count": null,
   "metadata": {
    "scrolled": false
   },
   "outputs": [],
   "source": [
    "?gplot"
   ]
  },
  {
   "cell_type": "markdown",
   "metadata": {},
   "source": [
    "<br>\n",
    "<br>\n",
    "<br>"
   ]
  },
  {
   "cell_type": "code",
   "execution_count": null,
   "metadata": {},
   "outputs": [],
   "source": [
    "# Add a label to each node:\n",
    "\n",
    "vertices(g) |> collect"
   ]
  },
  {
   "cell_type": "code",
   "execution_count": null,
   "metadata": {
    "scrolled": false
   },
   "outputs": [],
   "source": [
    "gplot(g, nodelabel = vertices(g))"
   ]
  },
  {
   "cell_type": "code",
   "execution_count": null,
   "metadata": {},
   "outputs": [],
   "source": [
    "# Add a label to each edge\n",
    "\n",
    "edges(g) |> collect"
   ]
  },
  {
   "cell_type": "code",
   "execution_count": null,
   "metadata": {
    "scrolled": true
   },
   "outputs": [],
   "source": [
    "gplot(g, edgelabel = edges(g))"
   ]
  },
  {
   "cell_type": "markdown",
   "metadata": {},
   "source": [
    "#### Colors\n",
    "\n",
    "We use the package Colors.jl"
   ]
  },
  {
   "cell_type": "code",
   "execution_count": null,
   "metadata": {
    "scrolled": true
   },
   "outputs": [],
   "source": [
    "using Colors\n",
    "\n",
    "cr = colorant\"red\""
   ]
  },
  {
   "cell_type": "code",
   "execution_count": null,
   "metadata": {},
   "outputs": [],
   "source": [
    "cs = [colorant\"lightblue\", colorant\"yellow\"]"
   ]
  },
  {
   "cell_type": "code",
   "execution_count": null,
   "metadata": {
    "scrolled": false
   },
   "outputs": [],
   "source": [
    "gplot(g, nodefillc=cr)"
   ]
  },
  {
   "cell_type": "code",
   "execution_count": null,
   "metadata": {
    "scrolled": false
   },
   "outputs": [],
   "source": [
    "gplot(g, nodefillc = map(i -> cs[mod1(i, 2)], vertices(g)), nodelabel=vertices(g))"
   ]
  },
  {
   "cell_type": "code",
   "execution_count": null,
   "metadata": {
    "scrolled": false
   },
   "outputs": [],
   "source": [
    "gplot(g, edgestrokec = colorant\"lightgreen\")"
   ]
  },
  {
   "cell_type": "markdown",
   "metadata": {},
   "source": [
    "### Exercise 1: Clustering Zachary's karate club"
   ]
  },
  {
   "cell_type": "code",
   "execution_count": null,
   "metadata": {},
   "outputs": [],
   "source": [
    "karate = smallgraph(:karate)\n",
    "\n",
    "gplot(karate)"
   ]
  },
  {
   "cell_type": "markdown",
   "metadata": {},
   "source": [
    "- Vertices are members of a karate club\n",
    "- Conflict inside of club between an administrator and an instructor\n",
    "- Edges represent interactions outside of the club\n",
    "- Clustering algorithm can assign each member to a clusters\n",
    "\n",
    "=> Use the `label_propagation` algorithm to find the clusters"
   ]
  },
  {
   "cell_type": "markdown",
   "metadata": {},
   "source": [
    "**Hint 1:** `label_propagation` is a randomized algorithm and does not produce the same number of clusters\n",
    "\n",
    "**Hint 2:** One can use the `distinguishable_colors` function to produce a palette of colors:"
   ]
  },
  {
   "cell_type": "code",
   "execution_count": null,
   "metadata": {
    "scrolled": true
   },
   "outputs": [],
   "source": [
    "palette = distinguishable_colors(10)"
   ]
  },
  {
   "cell_type": "markdown",
   "metadata": {},
   "source": [
    "Solution below\n",
    "\n",
    ".\n",
    "\n",
    ".\n",
    "\n",
    ".\n",
    "\n",
    ".\n",
    "\n",
    ".\n",
    "\n",
    ".\n",
    "\n",
    ".\n",
    "\n",
    ".\n",
    "\n",
    ".\n",
    "\n",
    ".\n",
    "\n",
    ".\n",
    "\n",
    ".\n",
    "\n",
    ".\n",
    "\n",
    ".\n",
    "\n",
    ".\n",
    "\n",
    ".\n"
   ]
  },
  {
   "cell_type": "code",
   "execution_count": null,
   "metadata": {
    "scrolled": true
   },
   "outputs": [],
   "source": [
    "?label_propagation"
   ]
  },
  {
   "cell_type": "code",
   "execution_count": null,
   "metadata": {},
   "outputs": [],
   "source": [
    "label_propagation(barbell_graph(4, 5))"
   ]
  },
  {
   "cell_type": "code",
   "execution_count": null,
   "metadata": {
    "scrolled": true
   },
   "outputs": [],
   "source": [
    "karate = smallgraph(:karate)\n",
    "\n",
    "# calculate the clustes\n",
    "labels, _ = label_propagation(karate)\n",
    "\n",
    "# map cluster labels to colors\n",
    "palette = distinguishable_colors(nv(karate) + 1)\n",
    "colors = map(l -> palette[l + 1], labels)\n",
    "\n",
    "gplot(karate, nodefillc = colors, nodelabel = vertices(karate))"
   ]
  },
  {
   "cell_type": "markdown",
   "metadata": {},
   "source": [
    "## Layouts"
   ]
  },
  {
   "cell_type": "code",
   "execution_count": null,
   "metadata": {},
   "outputs": [],
   "source": [
    "g = grid((4, 5))\n",
    "gplot(g)"
   ]
  },
  {
   "cell_type": "code",
   "execution_count": null,
   "metadata": {},
   "outputs": [],
   "source": [
    "gplot(g, layout = random_layout)"
   ]
  },
  {
   "cell_type": "code",
   "execution_count": null,
   "metadata": {
    "scrolled": true
   },
   "outputs": [],
   "source": [
    "# A layout is just a function from a graph g to a vector of xs a vector of ys\n",
    "random_layout(g) |> typeof |> println\n",
    "println()\n",
    "random_layout(g) |> println"
   ]
  },
  {
   "cell_type": "markdown",
   "metadata": {},
   "source": [
    "### Spring Layout\n",
    "\n",
    "- Inspired from physics\n",
    "- Model graph as nodes with springs in them \n",
    "- Iteratively simulate"
   ]
  },
  {
   "cell_type": "code",
   "execution_count": null,
   "metadata": {},
   "outputs": [],
   "source": [
    "gplot(g, layout = spring_layout)"
   ]
  },
  {
   "cell_type": "code",
   "execution_count": null,
   "metadata": {},
   "outputs": [],
   "source": [
    "?spring_layout"
   ]
  },
  {
   "cell_type": "code",
   "execution_count": null,
   "metadata": {
    "scrolled": true
   },
   "outputs": [],
   "source": [
    "gplot(g, layout = g -> spring_layout(g; MAXITER=50)) # try different values for MAXITER"
   ]
  },
  {
   "cell_type": "markdown",
   "metadata": {},
   "source": [
    "### Spectral layout\n",
    "\n",
    "- Bases on eigenvalues/eigenvectors of matrices derrived from the graph"
   ]
  },
  {
   "cell_type": "code",
   "execution_count": null,
   "metadata": {},
   "outputs": [],
   "source": [
    "gplot(g, layout=spectral_layout)"
   ]
  },
  {
   "cell_type": "markdown",
   "metadata": {},
   "source": [
    "### Warning!\n",
    "\n",
    "Graph layouts are hard."
   ]
  },
  {
   "cell_type": "code",
   "execution_count": null,
   "metadata": {},
   "outputs": [],
   "source": [
    "g = erdos_renyi(20, 0.5) # 20 nodes, each possible edge exists with 50% probability"
   ]
  },
  {
   "cell_type": "code",
   "execution_count": null,
   "metadata": {},
   "outputs": [],
   "source": [
    "gplot(g)"
   ]
  },
  {
   "cell_type": "code",
   "execution_count": null,
   "metadata": {},
   "outputs": [],
   "source": [
    "gplot(g, layout=spectral_layout)"
   ]
  },
  {
   "cell_type": "markdown",
   "metadata": {},
   "source": [
    "### Exercise 2: plotting a wheel graph\n",
    "\n",
    "- Create a wheel graph\n",
    "- Plot with `spring_layout`\n",
    "- Plot with `spectral_layout`\n",
    "- Create your own layout that places the first vertex in the middle, everything else in a circle around it"
   ]
  },
  {
   "cell_type": "code",
   "execution_count": null,
   "metadata": {
    "scrolled": false
   },
   "outputs": [],
   "source": [
    "wheel = wheel_graph(6) # try 100 instead\n",
    "gplot(wheel, nodelabel=vertices(wheel))"
   ]
  },
  {
   "cell_type": "markdown",
   "metadata": {},
   "source": [
    "**Hint 1:** Vertex 1 is always in the middle\n",
    "\n",
    "**Hint 2:** Scale does not matter -> `GraphPlot` scales to square\n",
    "\n",
    "**Hint 3:**  The `k`-th point on a `n` point cycle lies at `(cos(2pi * k / n, sin(2pi * k / n)`\n",
    "\n",
    "**Hint 4:** A layout is map from graph `g` to a tuple of vectors `[x_1, x_2, ..., x_n], y_1, y_2, ..., y_n]`\n",
    "\n",
    "Solution below\n",
    "\n",
    ".\n",
    "\n",
    ".\n",
    "\n",
    ".\n",
    "\n",
    ".\n",
    "\n",
    ".\n",
    "\n",
    ".\n",
    "\n",
    ".\n",
    "\n",
    ".\n",
    "\n",
    ".\n",
    "\n",
    ".\n",
    "\n",
    ".\n",
    "\n",
    ".\n",
    "\n",
    ".\n",
    "\n",
    ".\n",
    "\n",
    ".\n",
    "\n",
    "."
   ]
  },
  {
   "cell_type": "code",
   "execution_count": null,
   "metadata": {},
   "outputs": [],
   "source": [
    "wheel = wheel_graph(100)\n",
    "\n",
    "gplot(wheel, nodelabel=vertices(wheel), layout=spring_layout)"
   ]
  },
  {
   "cell_type": "code",
   "execution_count": null,
   "metadata": {},
   "outputs": [],
   "source": [
    "gplot(wheel, nodelabel=vertices(wheel), layout=spectral_layout)"
   ]
  },
  {
   "cell_type": "code",
   "execution_count": null,
   "metadata": {
    "scrolled": false
   },
   "outputs": [],
   "source": [
    "function wheel_layout(g)\n",
    "    \n",
    "    n = nv(g) - 1\n",
    "    \n",
    "    xs = [0.0; map(k -> cos(2pi * k / n), 1:n) ]\n",
    "    ys = [0.0; map(k -> sin(2pi * k / n), 1:n) ]\n",
    "    \n",
    "    return xs, ys\n",
    "end\n",
    "\n",
    "\n",
    "gplot(wheel, nodelabel=vertices(wheel), layout = wheel_layout)"
   ]
  },
  {
   "cell_type": "markdown",
   "metadata": {},
   "source": [
    "### Summary and outlook\n",
    "\n",
    "- Seen how to plot graphs\n",
    "- Seen how to set plot attributes\n",
    "- Seen how different layout work\n",
    "\n",
    "\n",
    "- `GraphPlot.jl` is not in the best shape - huge room for improvements\n",
    "    - Need more layouts\n",
    "    - Current layouts have some issues\n",
    "    \n",
    "- Other graph plotting package: https://github.com/JuliaPlots/GraphRecipes.jl\n",
    "    - Might be a bit more polished\n",
    "    - Might be a bit slow (but easy fixable)\n",
    "    \n",
    "- Consider also exporting the graph and then plotting using a specialized software such as https://graphviz.org/\n",
    "\n",
    "- All in all `GraphPlot` is still usable and might be used in researching new layout algorithms"
   ]
  }
 ],
 "metadata": {
  "@webio": {
   "lastCommId": null,
   "lastKernelId": null
  },
  "kernelspec": {
   "display_name": "Julia 1.4.0",
   "language": "julia",
   "name": "julia-1.4"
  },
  "language_info": {
   "file_extension": ".jl",
   "mimetype": "application/julia",
   "name": "julia",
   "version": "1.4.0"
  }
 },
 "nbformat": 4,
 "nbformat_minor": 4
}
