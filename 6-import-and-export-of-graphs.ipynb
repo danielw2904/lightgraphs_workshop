{
 "cells": [
  {
   "cell_type": "markdown",
   "metadata": {},
   "source": [
    "# Importing/Exporting graphs"
   ]
  },
  {
   "cell_type": "markdown",
   "metadata": {},
   "source": [
    "## Setup"
   ]
  },
  {
   "cell_type": "code",
   "execution_count": null,
   "metadata": {
    "scrolled": true
   },
   "outputs": [],
   "source": [
    "using LightGraphs\n",
    "\n",
    "# We will look at these packages\n",
    "using GraphIO, SNAPDatasets\n",
    "\n",
    "# Importing these two packages makes more graph types available\n",
    "using ParserCombinator, EzXML"
   ]
  },
  {
   "cell_type": "markdown",
   "metadata": {},
   "source": [
    "## GraphIO\n",
    "\n",
    "LightGraphs has two functions called `loadgraph` and `savegraph`. "
   ]
  },
  {
   "cell_type": "markdown",
   "metadata": {},
   "source": [
    "`loadgraph(io::IO, gname::String, ::LGFormat)` - load a graph\n",
    "\n",
    "`savegraph(io::IO, g::AbstractGraph, gname::String, ::LGFormat)` - save a graph"
   ]
  },
  {
   "cell_type": "markdown",
   "metadata": {},
   "source": [
    "Different graph formats defined in `GraphIO`: \n",
    "\n",
    "Format        | Read | Write | Multiple Graphs| Format Name  |\n",
    "--------------|------|-------|----------------|--------------|\n",
    "[EdgeList]    |   ✓  |  ✓    |                |EdgeListFormat|\n",
    "[GML]         |   ✓  |  ✓    | ✓              |GMLFormat     |\n",
    "[Graph6]      |   ✓  |  ✓    | ✓              |Graph6Format  |\n",
    "[GraphML]     |   ✓  |  ✓    | ✓              |GraphMLFormat |\n",
    "[Pajek NET]   |   ✓  |  ✓    |                |NETFormat     |\n",
    "[GEXF]        |      |  ✓    |                |GEXFFormat    |\n",
    "[DOT]         |   ✓  |       | ✓              |DOTFormat     |\n",
    "[CDF]         |   ✓  |       |                |CDFFormat     |\n"
   ]
  },
  {
   "cell_type": "code",
   "execution_count": null,
   "metadata": {
    "scrolled": true
   },
   "outputs": [],
   "source": [
    "g = smallgraph(:diamond)\n",
    "\n",
    "savegraph(stdout, g, \"graph\", GraphIO.GML.GMLFormat())"
   ]
  },
  {
   "cell_type": "markdown",
   "metadata": {},
   "source": [
    "### Exercise export a graph\n",
    "\n",
    "- Create some (not so complicated graph)\n",
    "- Export it in graphml format\n",
    "- Go to https://graphonline.ru/en/ and import your exported graph\n",
    "\n",
    "**Hint::** One can open a new file the follwing way:\n",
    "```julia```\n",
    "open(filename, \"w\") do io\n",
    "    # do something with io\n",
    "end\n",
    "```\n",
    "\n",
    "Solution below\n",
    ".\n",
    "\n",
    ".\n",
    "\n",
    ".\n",
    "\n",
    ".\n",
    "\n",
    ".\n",
    "\n",
    ".\n",
    "\n",
    ".\n",
    "\n",
    ".\n",
    "\n",
    ".\n",
    "\n",
    ".\n",
    "\n",
    ".\n"
   ]
  },
  {
   "cell_type": "code",
   "execution_count": null,
   "metadata": {
    "scrolled": true
   },
   "outputs": [],
   "source": [
    "g = cycle_graph(10)\n",
    "\n",
    "open(\"mygraph.graphml\", \"w\") do io\n",
    "    savegraph(io, g, \"my cycle graph\", GraphIO.GraphML.GraphMLFormat())\n",
    "end"
   ]
  },
  {
   "cell_type": "markdown",
   "metadata": {},
   "source": [
    "### Importing graphs\n",
    "\n",
    "Instead of showing how to import, here are some websites with interesting graph dataset\n",
    "\n",
    "- [House of graphs](https://hog.grinvin.org/) - Good for small graphs with some property\n",
    "- [SNAP graphs](https://snap.stanford.edu/data/index.html) - Large social graphs\n",
    "- [Suite Sparse matrix collect](https://sparse.tamu.edu/) - Graphs in form of matrices"
   ]
  },
  {
   "cell_type": "code",
   "execution_count": null,
   "metadata": {},
   "outputs": [],
   "source": [
    "using SNAPDatasets # contains only a few selected SNAP graphs\n",
    "\n",
    "g = loadsnap(:email_enron)"
   ]
  },
  {
   "cell_type": "markdown",
   "metadata": {},
   "source": [
    "## Summary and Outlook\n",
    "\n",
    "- Saw how we can load and save some graphs\n",
    "- Saw some websites with graph datasets\n",
    "\n",
    "- Currently only support loading of SimpleGraphs without properties\n",
    "\n",
    "\n",
    "=> Maybe someone creates a GraphDataset package?"
   ]
  }
 ],
 "metadata": {
  "@webio": {
   "lastCommId": null,
   "lastKernelId": null
  },
  "kernelspec": {
   "display_name": "Julia 1.4.0",
   "language": "julia",
   "name": "julia-1.4"
  },
  "language_info": {
   "file_extension": ".jl",
   "mimetype": "application/julia",
   "name": "julia",
   "version": "1.4.0"
  }
 },
 "nbformat": 4,
 "nbformat_minor": 4
}
